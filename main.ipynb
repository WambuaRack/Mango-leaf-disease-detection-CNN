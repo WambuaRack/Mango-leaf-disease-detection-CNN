{
 "cells": [
  {
   "cell_type": "markdown",
   "metadata": {},
   "source": [
    "THE MODEL"
   ]
  },
  {
   "cell_type": "code",
   "execution_count": 1,
   "metadata": {},
   "outputs": [],
   "source": [
    "from tensorflow.keras.models import Sequential\n",
    "from tensorflow.keras.layers import Conv2D, MaxPooling2D, Dense, Dropout, Flatten\n",
    "from tensorflow.keras import layers, models\n",
    "from tensorflow.keras.preprocessing.image import ImageDataGenerator\n"
   ]
  },
  {
   "cell_type": "code",
   "execution_count": 2,
   "metadata": {},
   "outputs": [
    {
     "name": "stdout",
     "output_type": "stream",
     "text": [
      "Number of classes: 8\n"
     ]
    }
   ],
   "source": [
    "import os\n",
    "\n",
    "data_dir = 'data'\n",
    "num_classes = len(os.listdir(data_dir))\n",
    "print(f'Number of classes: {num_classes}')\n",
    "\n"
   ]
  },
  {
   "cell_type": "code",
   "execution_count": 3,
   "metadata": {},
   "outputs": [
    {
     "name": "stderr",
     "output_type": "stream",
     "text": [
      "c:\\Program Files\\Python312\\Lib\\site-packages\\keras\\src\\layers\\convolutional\\base_conv.py:107: UserWarning: Do not pass an `input_shape`/`input_dim` argument to a layer. When using Sequential models, prefer using an `Input(shape)` object as the first layer in the model instead.\n",
      "  super().__init__(activity_regularizer=activity_regularizer, **kwargs)\n"
     ]
    },
    {
     "name": "stdout",
     "output_type": "stream",
     "text": [
      "Found 3200 images belonging to 8 classes.\n",
      "Found 798 images belonging to 8 classes.\n",
      "Epoch 1/20\n"
     ]
    },
    {
     "name": "stderr",
     "output_type": "stream",
     "text": [
      "c:\\Program Files\\Python312\\Lib\\site-packages\\keras\\src\\trainers\\data_adapters\\py_dataset_adapter.py:121: UserWarning: Your `PyDataset` class should call `super().__init__(**kwargs)` in its constructor. `**kwargs` can include `workers`, `use_multiprocessing`, `max_queue_size`. Do not pass these arguments to `fit()`, as they will be ignored.\n",
      "  self._warn_if_super_not_called()\n"
     ]
    },
    {
     "name": "stdout",
     "output_type": "stream",
     "text": [
      "\u001b[1m100/100\u001b[0m \u001b[32m━━━━━━━━━━━━━━━━━━━━\u001b[0m\u001b[37m\u001b[0m \u001b[1m1374s\u001b[0m 14s/step - accuracy: 0.6175 - loss: 4.8379 - val_accuracy: 0.1241 - val_loss: 33.7954\n",
      "Epoch 2/20\n",
      "\u001b[1m100/100\u001b[0m \u001b[32m━━━━━━━━━━━━━━━━━━━━\u001b[0m\u001b[37m\u001b[0m \u001b[1m1299s\u001b[0m 13s/step - accuracy: 0.8409 - loss: 2.1013 - val_accuracy: 0.1328 - val_loss: 50.2860\n",
      "Epoch 3/20\n",
      "\u001b[1m100/100\u001b[0m \u001b[32m━━━━━━━━━━━━━━━━━━━━\u001b[0m\u001b[37m\u001b[0m \u001b[1m1304s\u001b[0m 13s/step - accuracy: 0.8863 - loss: 1.1509 - val_accuracy: 0.4160 - val_loss: 21.0026\n",
      "Epoch 4/20\n",
      "\u001b[1m100/100\u001b[0m \u001b[32m━━━━━━━━━━━━━━━━━━━━\u001b[0m\u001b[37m\u001b[0m \u001b[1m1296s\u001b[0m 13s/step - accuracy: 0.9210 - loss: 0.7751 - val_accuracy: 0.5627 - val_loss: 11.7162\n",
      "Epoch 5/20\n",
      "\u001b[1m100/100\u001b[0m \u001b[32m━━━━━━━━━━━━━━━━━━━━\u001b[0m\u001b[37m\u001b[0m \u001b[1m1306s\u001b[0m 13s/step - accuracy: 0.9231 - loss: 0.7355 - val_accuracy: 0.6942 - val_loss: 6.4116\n",
      "Epoch 6/20\n",
      "\u001b[1m100/100\u001b[0m \u001b[32m━━━━━━━━━━━━━━━━━━━━\u001b[0m\u001b[37m\u001b[0m \u001b[1m1319s\u001b[0m 13s/step - accuracy: 0.9371 - loss: 0.4576 - val_accuracy: 0.6479 - val_loss: 6.6754\n",
      "Epoch 7/20\n",
      "\u001b[1m100/100\u001b[0m \u001b[32m━━━━━━━━━━━━━━━━━━━━\u001b[0m\u001b[37m\u001b[0m \u001b[1m1318s\u001b[0m 13s/step - accuracy: 0.9395 - loss: 0.4194 - val_accuracy: 0.5752 - val_loss: 15.5135\n",
      "Epoch 8/20\n",
      "\u001b[1m100/100\u001b[0m \u001b[32m━━━━━━━━━━━━━━━━━━━━\u001b[0m\u001b[37m\u001b[0m \u001b[1m1325s\u001b[0m 13s/step - accuracy: 0.9631 - loss: 0.2906 - val_accuracy: 0.1667 - val_loss: 50.8055\n",
      "Epoch 9/20\n",
      "\u001b[1m100/100\u001b[0m \u001b[32m━━━━━━━━━━━━━━━━━━━━\u001b[0m\u001b[37m\u001b[0m \u001b[1m1337s\u001b[0m 13s/step - accuracy: 0.9451 - loss: 0.4749 - val_accuracy: 0.7619 - val_loss: 4.3592\n",
      "Epoch 10/20\n",
      "\u001b[1m100/100\u001b[0m \u001b[32m━━━━━━━━━━━━━━━━━━━━\u001b[0m\u001b[37m\u001b[0m \u001b[1m1339s\u001b[0m 13s/step - accuracy: 0.9641 - loss: 0.2843 - val_accuracy: 0.4486 - val_loss: 18.6703\n",
      "Epoch 11/20\n",
      "\u001b[1m100/100\u001b[0m \u001b[32m━━━━━━━━━━━━━━━━━━━━\u001b[0m\u001b[37m\u001b[0m \u001b[1m1346s\u001b[0m 13s/step - accuracy: 0.9513 - loss: 0.4910 - val_accuracy: 0.4737 - val_loss: 16.1240\n",
      "Epoch 12/20\n",
      "\u001b[1m100/100\u001b[0m \u001b[32m━━━━━━━━━━━━━━━━━━━━\u001b[0m\u001b[37m\u001b[0m \u001b[1m1349s\u001b[0m 13s/step - accuracy: 0.9559 - loss: 0.3502 - val_accuracy: 0.7970 - val_loss: 4.5865\n",
      "Epoch 13/20\n",
      "\u001b[1m100/100\u001b[0m \u001b[32m━━━━━━━━━━━━━━━━━━━━\u001b[0m\u001b[37m\u001b[0m \u001b[1m1359s\u001b[0m 14s/step - accuracy: 0.9720 - loss: 0.2403 - val_accuracy: 0.3885 - val_loss: 34.0359\n",
      "Epoch 14/20\n",
      "\u001b[1m100/100\u001b[0m \u001b[32m━━━━━━━━━━━━━━━━━━━━\u001b[0m\u001b[37m\u001b[0m \u001b[1m1368s\u001b[0m 14s/step - accuracy: 0.9553 - loss: 0.4680 - val_accuracy: 0.6717 - val_loss: 7.5024\n",
      "Epoch 15/20\n",
      "\u001b[1m100/100\u001b[0m \u001b[32m━━━━━━━━━━━━━━━━━━━━\u001b[0m\u001b[37m\u001b[0m \u001b[1m1371s\u001b[0m 14s/step - accuracy: 0.9413 - loss: 0.6545 - val_accuracy: 0.3258 - val_loss: 75.9891\n",
      "Epoch 16/20\n",
      "\u001b[1m100/100\u001b[0m \u001b[32m━━━━━━━━━━━━━━━━━━━━\u001b[0m\u001b[37m\u001b[0m \u001b[1m1382s\u001b[0m 14s/step - accuracy: 0.9579 - loss: 0.4209 - val_accuracy: 0.1754 - val_loss: 340.7641\n",
      "Epoch 17/20\n",
      "\u001b[1m100/100\u001b[0m \u001b[32m━━━━━━━━━━━━━━━━━━━━\u001b[0m\u001b[37m\u001b[0m \u001b[1m1388s\u001b[0m 14s/step - accuracy: 0.9532 - loss: 0.4765 - val_accuracy: 0.5965 - val_loss: 25.7337\n",
      "Epoch 18/20\n",
      "\u001b[1m100/100\u001b[0m \u001b[32m━━━━━━━━━━━━━━━━━━━━\u001b[0m\u001b[37m\u001b[0m \u001b[1m1392s\u001b[0m 14s/step - accuracy: 0.9748 - loss: 0.2221 - val_accuracy: 0.7293 - val_loss: 6.1311\n",
      "Epoch 19/20\n",
      "\u001b[1m100/100\u001b[0m \u001b[32m━━━━━━━━━━━━━━━━━━━━\u001b[0m\u001b[37m\u001b[0m \u001b[1m1407s\u001b[0m 14s/step - accuracy: 0.9720 - loss: 0.3857 - val_accuracy: 0.7657 - val_loss: 5.0044\n",
      "Epoch 20/20\n",
      "\u001b[1m100/100\u001b[0m \u001b[32m━━━━━━━━━━━━━━━━━━━━\u001b[0m\u001b[37m\u001b[0m \u001b[1m1404s\u001b[0m 14s/step - accuracy: 0.9843 - loss: 0.1203 - val_accuracy: 0.6341 - val_loss: 11.8666\n"
     ]
    },
    {
     "name": "stderr",
     "output_type": "stream",
     "text": [
      "WARNING:absl:You are saving your model as an HDF5 file via `model.save()` or `keras.saving.save_model(model)`. This file format is considered legacy. We recommend using instead the native Keras format, e.g. `model.save('my_model.keras')` or `keras.saving.save_model(model, 'my_model.keras')`. \n"
     ]
    }
   ],
   "source": [
    "import tensorflow as tf\n",
    "from tensorflow.keras import layers, models\n",
    "from tensorflow.keras.preprocessing.image import ImageDataGenerator\n",
    "\n",
    "# Define the model\n",
    "model = models.Sequential()\n",
    "model.add(layers.Conv2D(32, (3, 3), activation='relu', input_shape=(256, 256, 3)))\n",
    "model.add(layers.BatchNormalization())\n",
    "model.add(layers.MaxPooling2D((2, 2)))\n",
    "\n",
    "model.add(layers.Conv2D(64, (3, 3), activation='relu'))\n",
    "model.add(layers.BatchNormalization())\n",
    "model.add(layers.MaxPooling2D((2, 2)))\n",
    "\n",
    "model.add(layers.Conv2D(128, (3, 3), activation='relu'))\n",
    "model.add(layers.BatchNormalization())\n",
    "model.add(layers.MaxPooling2D((2, 2)))\n",
    "\n",
    "model.add(layers.Conv2D(128, (3, 3), activation='relu'))\n",
    "model.add(layers.BatchNormalization())\n",
    "model.add(layers.MaxPooling2D((2, 2)))\n",
    "\n",
    "model.add(layers.Flatten())\n",
    "model.add(layers.Dense(512, activation='relu'))\n",
    "model.add(layers.Dropout(0.5))\n",
    "model.add(layers.Dense(num_classes, activation='softmax'))  # Adjusted number of output units\n",
    "\n",
    "# Compile the model\n",
    "model.compile(optimizer='adam',\n",
    "              loss='sparse_categorical_crossentropy',\n",
    "              metrics=['accuracy'])\n",
    "\n",
    "# Data preparation\n",
    "train_datagen = ImageDataGenerator(rescale=1./255, validation_split=0.2)\n",
    "train_generator = train_datagen.flow_from_directory(\n",
    "    data_dir,\n",
    "    target_size=(256, 256),\n",
    "    batch_size=32,\n",
    "    class_mode='sparse',\n",
    "    subset='training'\n",
    ")\n",
    "validation_generator = train_datagen.flow_from_directory(\n",
    "    data_dir,\n",
    "    target_size=(256, 256),\n",
    "    batch_size=32,\n",
    "    class_mode='sparse',\n",
    "    subset='validation'\n",
    ")\n",
    "\n",
    "# Train the model\n",
    "history = model.fit(\n",
    "    train_generator,\n",
    "    epochs=20,\n",
    "    validation_data=validation_generator\n",
    ")\n",
    "\n",
    "# Save the model\n",
    "model.save('enhanced_cnn_mango_leaf_disease.h5')\n"
   ]
  },
  {
   "cell_type": "code",
   "execution_count": 4,
   "metadata": {},
   "outputs": [],
   "source": [
    "from tensorflow.keras.preprocessing import image\n",
    "import numpy as np\n",
    "\n",
    "def preprocess_image(img_path):\n",
    "    img = image.load_img(img_path, target_size=(256, 256))\n",
    "    img_array = image.img_to_array(img)\n",
    "    img_array = np.expand_dims(img_array, axis=0)  # Add batch dimension\n",
    "    img_array /= 255.0  # Normalize to [0, 1]\n",
    "    return img_array\n"
   ]
  },
  {
   "cell_type": "code",
   "execution_count": 18,
   "metadata": {},
   "outputs": [
    {
     "name": "stdout",
     "output_type": "stream",
     "text": [
      "\u001b[1m1/1\u001b[0m \u001b[32m━━━━━━━━━━━━━━━━━━━━\u001b[0m\u001b[37m\u001b[0m \u001b[1m0s\u001b[0m 317ms/step\n",
      "Predicted class: 0\n"
     ]
    }
   ],
   "source": [
    "# Path to your test image\n",
    "test_image_path = 'ml.jpg'\n",
    "\n",
    "# Preprocess the image\n",
    "preprocessed_image = preprocess_image(test_image_path)\n",
    "\n",
    "# Predict the class\n",
    "predictions = model.predict(preprocessed_image)\n",
    "predicted_class = np.argmax(predictions, axis=1)[0]\n",
    "print(f'Predicted class: {predicted_class}')\n"
   ]
  },
  {
   "cell_type": "code",
   "execution_count": 20,
   "metadata": {},
   "outputs": [
    {
     "name": "stdout",
     "output_type": "stream",
     "text": [
      "The test image is predicted to be: Anthracnose\n",
      "Best drug to use: Chlorothalonil or Copper-based fungicides\n",
      "Best procedures on use: Apply fungicides at 10-15 day intervals, especially during wet seasons. Ensure thorough coverage of the leaves and fruit.\n",
      "Duration: Continue treatment from flowering until the fruit is harvested.\n"
     ]
    }
   ],
   "source": [
    "# List of disease names corresponding to class indices\n",
    "disease_names = [\n",
    "    'Anthracnose', \n",
    "    'Bacterial Canker',\n",
    "    'Cutting Weevil',\n",
    "    'Die Back',\n",
    "    'Gall Midge',\n",
    "    'Healthy',\n",
    "    'Powdery Mildew', \n",
    "    'Sooty Mold'\n",
    "]\n",
    "\n",
    "# Function to get treatment information based on the disease name\n",
    "def get_treatment_info(disease_name):\n",
    "    if disease_name == 'Anthracnose':\n",
    "        return {\n",
    "            \"drug\": \"Chlorothalonil or Copper-based fungicides\",\n",
    "            \"procedures\": \"Apply fungicides at 10-15 day intervals, especially during wet seasons. Ensure thorough coverage of the leaves and fruit.\",\n",
    "            \"duration\": \"Continue treatment from flowering until the fruit is harvested.\"\n",
    "        }\n",
    "    elif disease_name == 'Bacterial Canker':\n",
    "        return {\n",
    "            \"drug\": \"Copper-based sprays\",\n",
    "            \"procedures\": \"Apply copper sprays during early stages of the disease. Prune infected branches and ensure good air circulation.\",\n",
    "            \"duration\": \"Apply every 7-14 days depending on the severity of the infection.\"\n",
    "        }\n",
    "    elif disease_name == 'Cutting Weevil':\n",
    "        return {\n",
    "            \"drug\": \"Chlorpyrifos or Carbaryl\",\n",
    "            \"procedures\": \"Apply insecticides at the base of the tree and affected areas. Monitor for weevil activity and apply as necessary.\",\n",
    "            \"duration\": \"Apply during the weevil's active period, typically in the early growing season.\"\n",
    "        }\n",
    "    elif disease_name == 'Die Back':\n",
    "        return {\n",
    "            \"drug\": \"Carbendazim or Copper Oxychloride\",\n",
    "            \"procedures\": \"Apply fungicides to the affected areas. Prune and destroy affected branches.\",\n",
    "            \"duration\": \"Treat immediately upon detection and continue as necessary.\"\n",
    "        }\n",
    "    elif disease_name == 'Gall Midge':\n",
    "        return {\n",
    "            \"drug\": \"Imidacloprid or Abamectin\",\n",
    "            \"procedures\": \"Spray insecticides during the early stages of infestation. Ensure proper coverage of the affected areas.\",\n",
    "            \"duration\": \"Apply every 10-14 days during active infestation.\"\n",
    "        }\n",
    "    elif disease_name == 'Healthy':\n",
    "        return {\n",
    "            \"drug\": \"None\",\n",
    "            \"procedures\": \"Maintain regular monitoring and good agricultural practices.\",\n",
    "            \"duration\": \"Ongoing.\"\n",
    "        }\n",
    "    elif disease_name == 'Powdery Mildew':\n",
    "        return {\n",
    "            \"drug\": \"Sulfur-based fungicides or Potassium bicarbonate\",\n",
    "            \"procedures\": \"Apply fungicides at the first sign of disease. Ensure thorough coverage of leaves.\",\n",
    "            \"duration\": \"Apply every 7-10 days during the growing season.\"\n",
    "        }\n",
    "    elif disease_name == 'Sooty Mold':\n",
    "        return {\n",
    "            \"drug\": \"Horticultural oil or Neem oil\",\n",
    "            \"procedures\": \"Apply oil sprays to affected areas. Ensure good coverage and repeat applications as necessary.\",\n",
    "            \"duration\": \"Apply every 7-14 days until the mold is controlled.\"\n",
    "        }\n",
    "    else:\n",
    "        return {\n",
    "            \"drug\": \"Unknown\",\n",
    "            \"procedures\": \"No procedures available.\",\n",
    "            \"duration\": \"Unknown.\"\n",
    "        }\n",
    "\n",
    "\n",
    "\n",
    "# Get the disease name for the predicted class\n",
    "predicted_disease = disease_names[predicted_class]\n",
    "print(f'The test image is predicted to be: {predicted_disease}')\n",
    "\n",
    "# Get the treatment information for the predicted disease\n",
    "treatment_info = get_treatment_info(predicted_disease)\n",
    "print(f\"Best drug to use: {treatment_info['drug']}\")\n",
    "print(f\"Best procedures on use: {treatment_info['procedures']}\")\n",
    "print(f\"Duration: {treatment_info['duration']}\")\n"
   ]
  }
 ],
 "metadata": {
  "kernelspec": {
   "display_name": "Python 3",
   "language": "python",
   "name": "python3"
  },
  "language_info": {
   "codemirror_mode": {
    "name": "ipython",
    "version": 3
   },
   "file_extension": ".py",
   "mimetype": "text/x-python",
   "name": "python",
   "nbconvert_exporter": "python",
   "pygments_lexer": "ipython3",
   "version": "3.12.2"
  }
 },
 "nbformat": 4,
 "nbformat_minor": 2
}
