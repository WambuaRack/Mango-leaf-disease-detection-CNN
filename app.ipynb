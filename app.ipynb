{
 "cells": [
  {
   "cell_type": "code",
   "execution_count": 14,
   "metadata": {},
   "outputs": [
    {
     "name": "stderr",
     "output_type": "stream",
     "text": [
      "WARNING:absl:Compiled the loaded model, but the compiled metrics have yet to be built. `model.compile_metrics` will be empty until you train or evaluate the model.\n"
     ]
    }
   ],
   "source": [
    "from flask import Flask, request, render_template, jsonify\n",
    "from tensorflow.keras.models import load_model\n",
    "from tensorflow.keras.preprocessing import image\n",
    "import numpy as np\n",
    "import os\n",
    "\n",
    "app = Flask(__name__)\n",
    "\n",
    "# Load the trained model\n",
    "model = load_model('enhanced_cnn_mango_leaf_disease.h5')\n",
    "model.compile(optimizer='adam', loss='sparse_categorical_crossentropy', metrics=['accuracy'])\n",
    "\n",
    "# List of disease names corresponding to class indices\n",
    "disease_names = [\n",
    "    'Anthracnose', \n",
    "    'Bacterial Canker',\n",
    "    'Cutting Weevil',\n",
    "    'Die Back',\n",
    "    'Gall Midge',\n",
    "    'Healthy',\n",
    "    'Powdery Mildew', \n",
    "    'Sooty Mold'\n",
    "]\n"
   ]
  },
  {
   "cell_type": "code",
   "execution_count": 11,
   "metadata": {},
   "outputs": [],
   "source": [
    "# Function to get treatment information based on the disease name\n",
    "def get_treatment_info(disease_name):\n",
    "    treatments = {\n",
    "        'Anthracnose': {\n",
    "            \"drug\": \"Chlorothalonil or Copper-based fungicides\",\n",
    "            \"procedures\": \"Apply fungicides at 10-15 day intervals, especially during wet seasons. Ensure thorough coverage of the leaves and fruit.\",\n",
    "            \"duration\": \"Continue treatment from flowering until the fruit is harvested.\"\n",
    "        },\n",
    "        'Bacterial Canker': {\n",
    "            \"drug\": \"Copper-based sprays\",\n",
    "            \"procedures\": \"Apply copper sprays during early stages of the disease. Prune infected branches and ensure good air circulation.\",\n",
    "            \"duration\": \"Apply every 7-14 days depending on the severity of the infection.\"\n",
    "        },\n",
    "        'Cutting Weevil': {\n",
    "            \"drug\": \"Chlorpyrifos or Carbaryl\",\n",
    "            \"procedures\": \"Apply insecticides at the base of the tree and affected areas. Monitor for weevil activity and apply as necessary.\",\n",
    "            \"duration\": \"Apply during the weevil's active period, typically in the early growing season.\"\n",
    "        },\n",
    "        'Die Back': {\n",
    "            \"drug\": \"Carbendazim or Copper Oxychloride\",\n",
    "            \"procedures\": \"Apply fungicides to the affected areas. Prune and destroy affected branches.\",\n",
    "            \"duration\": \"Treat immediately upon detection and continue as necessary.\"\n",
    "        },\n",
    "        'Gall Midge': {\n",
    "            \"drug\": \"Imidacloprid or Abamectin\",\n",
    "            \"procedures\": \"Spray insecticides during the early stages of infestation. Ensure proper coverage of the affected areas.\",\n",
    "            \"duration\": \"Apply every 10-14 days during active infestation.\"\n",
    "        },\n",
    "        'Healthy': {\n",
    "            \"drug\": \"None\",\n",
    "            \"procedures\": \"Maintain regular monitoring and good agricultural practices.\",\n",
    "            \"duration\": \"Ongoing.\"\n",
    "        },\n",
    "        'Powdery Mildew': {\n",
    "            \"drug\": \"Sulfur-based fungicides or Potassium bicarbonate\",\n",
    "            \"procedures\": \"Apply fungicides at the first sign of disease. Ensure thorough coverage of leaves.\",\n",
    "            \"duration\": \"Apply every 7-10 days during the growing season.\"\n",
    "        },\n",
    "        'Sooty Mold': {\n",
    "            \"drug\": \"Horticultural oil or Neem oil\",\n",
    "            \"procedures\": \"Apply oil sprays to affected areas. Ensure good coverage and repeat applications as necessary.\",\n",
    "            \"duration\": \"Apply every 7-14 days until the mold is controlled.\"\n",
    "        }\n",
    "    }\n",
    "    \n",
    "    return treatments.get(disease_name, {\n",
    "        \"drug\": \"Unknown\",\n",
    "        \"procedures\": \"No procedures available.\",\n",
    "        \"duration\": \"Unknown.\"\n",
    "    })\n",
    "\n",
    "# Preprocess the image\n",
    "def preprocess_image(img_path):\n",
    "    img = image.load_img(img_path, target_size=(256, 256))\n",
    "    img_array = image.img_to_array(img)\n",
    "    img_array = np.expand_dims(img_array, axis=0)  # Add batch dimension\n",
    "    img_array /= 255.0  # Normalize to [0, 1]\n",
    "    return img_array\n"
   ]
  },
  {
   "cell_type": "code",
   "execution_count": 12,
   "metadata": {},
   "outputs": [
    {
     "name": "stdout",
     "output_type": "stream",
     "text": [
      " * Serving Flask app '__main__'\n",
      " * Debug mode: on\n"
     ]
    },
    {
     "name": "stderr",
     "output_type": "stream",
     "text": [
      "INFO:werkzeug:\u001b[31m\u001b[1mWARNING: This is a development server. Do not use it in a production deployment. Use a production WSGI server instead.\u001b[0m\n",
      " * Running on http://127.0.0.1:5001\n",
      "INFO:werkzeug:\u001b[33mPress CTRL+C to quit\u001b[0m\n",
      "INFO:werkzeug: * Restarting with stat\n"
     ]
    },
    {
     "ename": "SystemExit",
     "evalue": "1",
     "output_type": "error",
     "traceback": [
      "An exception has occurred, use %tb to see the full traceback.\n",
      "\u001b[1;31mSystemExit\u001b[0m\u001b[1;31m:\u001b[0m 1\n"
     ]
    }
   ],
   "source": [
    "@app.route('/')\n",
    "def index():\n",
    "    return render_template('index.html')\n",
    "\n",
    "@app.route('/predict', methods=['POST'])\n",
    "def predict():\n",
    "    try:\n",
    "        if 'file' not in request.files:\n",
    "            return jsonify({\"error\": \"No file provided\"})\n",
    "        \n",
    "        file = request.files['file']\n",
    "        \n",
    "        if file.filename == '':\n",
    "            return jsonify({\"error\": \"No file selected\"})\n",
    "        \n",
    "        file_path = os.path.join('uploads', file.filename)\n",
    "        file.save(file_path)\n",
    "\n",
    "        # Preprocess the image\n",
    "        preprocessed_image = preprocess_image(file_path)\n",
    "\n",
    "        # Predict the class\n",
    "        predictions = model.predict(preprocessed_image)\n",
    "        predicted_class = np.argmax(predictions, axis=1)[0]\n",
    "        predicted_disease = disease_names[predicted_class]\n",
    "\n",
    "        # Get the treatment information for the predicted disease\n",
    "        treatment_info = get_treatment_info(predicted_disease)\n",
    "\n",
    "        return jsonify({\n",
    "            \"disease\": predicted_disease,\n",
    "            \"drug\": treatment_info['drug'],\n",
    "            \"procedures\": treatment_info['procedures'],\n",
    "            \"duration\": treatment_info['duration']\n",
    "        })\n",
    "    \n",
    "    except Exception as e:\n",
    "        return jsonify({\"error\": str(e)})\n",
    "\n",
    "if __name__ == '__main__':\n",
    "    app.run(debug=True, port=5001)\n"
   ]
  }
 ],
 "metadata": {
  "kernelspec": {
   "display_name": "Python 3",
   "language": "python",
   "name": "python3"
  },
  "language_info": {
   "codemirror_mode": {
    "name": "ipython",
    "version": 3
   },
   "file_extension": ".py",
   "mimetype": "text/x-python",
   "name": "python",
   "nbconvert_exporter": "python",
   "pygments_lexer": "ipython3",
   "version": "3.12.2"
  }
 },
 "nbformat": 4,
 "nbformat_minor": 2
}
